{
 "cells": [
  {
   "cell_type": "code",
   "execution_count": 1,
   "id": "afde29e5-113e-49b4-8c5d-bba29e4e3c30",
   "metadata": {},
   "outputs": [
    {
     "name": "stdout",
     "output_type": "stream",
     "text": [
      "Hello World...\n",
      "This is Jupyter Lab Desktop based on LibroBase\n"
     ]
    }
   ],
   "source": [
    "print('Hello World...')\n",
    "print('This is Jupyter Lab Desktop based on LibroBase')"
   ]
  },
  {
   "cell_type": "code",
   "execution_count": 2,
   "id": "dda06830-4a59-4a2b-bbdf-57224595d8c6",
   "metadata": {},
   "outputs": [
    {
     "name": "stdout",
     "output_type": "stream",
     "text": [
      "Python 3.11.6\n"
     ]
    }
   ],
   "source": [
    "! ../prefix/bin/python --version"
   ]
  },
  {
   "cell_type": "code",
   "execution_count": 3,
   "id": "1343993f-4b7e-4c4e-8601-fe84aa803b8d",
   "metadata": {},
   "outputs": [
    {
     "name": "stdout",
     "output_type": "stream",
     "text": [
      "pip 23.3.1 from /Users/mhp/github/librobase/jupyterlab-desktop/src-tauri/target/release/bundle/macos/jupyterlab-desktop.app/Contents/Resources/prefix/lib/python3.11/site-packages/pip (python 3.11)\n"
     ]
    }
   ],
   "source": [
    "! ../prefix/bin/python -m pip --version"
   ]
  },
  {
   "cell_type": "code",
   "execution_count": null,
   "id": "cd8a88a8-779e-4531-ac2f-9371bf293bc4",
   "metadata": {},
   "outputs": [],
   "source": []
  }
 ],
 "metadata": {
  "kernelspec": {
   "display_name": "Python 3 (ipykernel)",
   "language": "python",
   "name": "python3"
  },
  "language_info": {
   "codemirror_mode": {
    "name": "ipython",
    "version": 3
   },
   "file_extension": ".py",
   "mimetype": "text/x-python",
   "name": "python",
   "nbconvert_exporter": "python",
   "pygments_lexer": "ipython3",
   "version": "3.11.6"
  }
 },
 "nbformat": 4,
 "nbformat_minor": 5
}
